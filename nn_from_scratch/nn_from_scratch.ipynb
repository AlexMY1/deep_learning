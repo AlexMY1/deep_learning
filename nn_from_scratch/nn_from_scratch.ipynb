{
 "cells": [
  {
   "cell_type": "markdown",
   "metadata": {},
   "source": [
    "## Import"
   ]
  },
  {
   "cell_type": "code",
   "execution_count": 38,
   "metadata": {},
   "outputs": [],
   "source": [
    "import numpy as np\n",
    "from abc import ABC, abstractmethod\n",
    "from typing import List, Tuple\n",
    "import tensorflow as tf\n",
    "import keras"
   ]
  },
  {
   "cell_type": "markdown",
   "metadata": {},
   "source": [
    "## Preprocessing"
   ]
  },
  {
   "cell_type": "code",
   "execution_count": 42,
   "metadata": {},
   "outputs": [],
   "source": [
    "(X_train_raw, Y_train), (X_test_raw, Y_test) = tf.keras.datasets.mnist.load_data()"
   ]
  },
  {
   "cell_type": "code",
   "execution_count": 44,
   "metadata": {},
   "outputs": [],
   "source": [
    "X_train = X_train_raw.astype(\"float32\")/255.0\n",
    "X_test = X_test_raw.astype(\"float32\")/255.0\n",
    "\n",
    "X_train = X_train.reshape(-1, 28*28)\n",
    "X_test = X_test.reshape(-1, 28*28)\n",
    "\n",
    "Y_train = tf.keras.utils.to_categorical(Y_train, 10)\n",
    "Y_test = tf.keras.utils.to_categorical(Y_test, 10)"
   ]
  },
  {
   "cell_type": "markdown",
   "metadata": {},
   "source": [
    "## From scratch"
   ]
  },
  {
   "cell_type": "code",
   "execution_count": 8,
   "metadata": {},
   "outputs": [],
   "source": [
    "class Module(ABC) :\n",
    "\n",
    "    @abstractmethod\n",
    "    def forward(self, x) : pass\n",
    "    \n",
    "    @abstractmethod\n",
    "    def backward(self, delta_out) : pass"
   ]
  },
  {
   "cell_type": "code",
   "execution_count": 19,
   "metadata": {},
   "outputs": [],
   "source": [
    "class SimpleLayer(Module) :\n",
    "\n",
    "    @staticmethod\n",
    "    def init_weights_bias(input_size : int, output_size : int) -> Tuple[np.ndarray, np.ndarray] :\n",
    "        weights = np.random.uniform(-10,10, (input_size,output_size))\n",
    "        bias = np.zeros(output_size)\n",
    "        return weights, bias\n",
    "    \n",
    "    def __init__ (self, input_size : int, output_size : int) -> None :\n",
    "        self.weights, self.bias = SimpleLayer.init_weights_bias(input_size, output_size)\n",
    "\n",
    "    def forward(self, x : np.ndarray) -> np.ndarray:\n",
    "        self.input = x\n",
    "        return x@self.weights+self.bias\n",
    "    \n",
    "    def update(self, lr : float=10e-5) -> None :\n",
    "        assert hasattr(self, \"input\")\n",
    "        self.weights -= lr*self.input@self.delta\n",
    "        self.bias -= lr*np.sum(self.delta)\n",
    "\n",
    "    \n",
    "    def backward(self, delta_out : np.ndarray) :\n",
    "        self.delta = delta_out@self.weights.T\n",
    "        self.update()\n"
   ]
  },
  {
   "cell_type": "code",
   "execution_count": 13,
   "metadata": {},
   "outputs": [],
   "source": [
    "class Sequential(Module) :\n",
    "    def __init__(self, layers=None) :\n",
    "        self.layers = layers\n",
    "\n",
    "    def forward(self, x) :\n",
    "        for layer in self.layers :\n",
    "            x = layer.forward(x)\n",
    "        return x\n",
    "\n",
    "    def backward(self, delta_out) :\n",
    "        for layer in reversed(self.layers) :\n",
    "            delta_out = layer.backward(delta_out)\n",
    "        return delta_out\n"
   ]
  },
  {
   "cell_type": "code",
   "execution_count": 32,
   "metadata": {},
   "outputs": [],
   "source": [
    "class CELoss(Module) :\n",
    "    def __init__(self, size=2) :\n",
    "        self.size = size\n",
    "    \n",
    "    def forward(self, x) : pass\n",
    "    def backward(self, delta_out) : pass"
   ]
  },
  {
   "cell_type": "code",
   "execution_count": 37,
   "metadata": {},
   "outputs": [],
   "source": [
    "class Identity(Module) : pass"
   ]
  },
  {
   "cell_type": "code",
   "execution_count": null,
   "metadata": {},
   "outputs": [],
   "source": [
    "class Sigmoid(Module) :\n",
    "    "
   ]
  },
  {
   "cell_type": "code",
   "execution_count": 35,
   "metadata": {},
   "outputs": [],
   "source": [
    "class DropoutLayer(Module) : pass"
   ]
  },
  {
   "cell_type": "code",
   "execution_count": 36,
   "metadata": {},
   "outputs": [],
   "source": [
    "class BatchNorm(Module) : pass"
   ]
  },
  {
   "cell_type": "code",
   "execution_count": 34,
   "metadata": {},
   "outputs": [],
   "source": [
    "class EarlyStopper(Module) : pass"
   ]
  },
  {
   "cell_type": "code",
   "execution_count": 30,
   "metadata": {},
   "outputs": [],
   "source": [
    "class Model() :\n",
    "    BATCH_SIZE = 4\n",
    "    NB_EPOCHS = 1\n",
    "    def __init__(self, sequential, loss) :\n",
    "        self.sequential = sequential\n",
    "        self.loss = loss\n",
    "        self.metrics = {}\n",
    "\n",
    "    def train(self, X, Y) :\n",
    "        self.metrics[\"train_loss\"] = []\n",
    "\n",
    "        for epoch in Model.NB_EPOCHS :\n",
    "            loss_value = 0\n",
    "            for k in range(0,len(X), Model.BATCH_SIZE) :\n",
    "                batch = X[k:k+Model.BATCH_SIZE]\n",
    "                batch_label = Y[k:k+Model.BATCH_SIZE]\n",
    "                Y_hat = self.sequential.forward(batch)\n",
    "                loss_value += self.loss.forward(Y, Y_hat)\n",
    "\n",
    "                delta_out = self.loss.backward(Y, Y_hat)\n",
    "                self.sequential.backward(delta_out)\n",
    "\n",
    "            self.metrics[\"train_loss\"].append(loss_value)\n",
    "\n",
    "    def test(self, X, Y) :\n",
    "        self.metrics[\"test_loss\"] = []\n",
    "        loss_value = 0\n",
    "        for k in range(0,len(X), Model.BATCH_SIZE) :\n",
    "            batch = X[k:k+Model.BATCH_SIZE]\n",
    "            batch_label = Y[k:k+Model.BATCH_SIZE]\n",
    "            Y_hat = self.sequential.forward(batch)\n",
    "            loss_value += self.loss.forward(Y, Y_hat)\n",
    "        self.metrics[\"test_loss\"].append(loss_value)"
   ]
  },
  {
   "cell_type": "code",
   "execution_count": 33,
   "metadata": {},
   "outputs": [],
   "source": [
    "layer1 = SimpleLayer(3,3)\n",
    "layer2 = SimpleLayer(3,4)\n",
    "loss = CELoss()\n",
    "model = Model(Sequential([layer1, layer2]), loss)"
   ]
  },
  {
   "cell_type": "markdown",
   "metadata": {},
   "source": [
    "## Keras"
   ]
  },
  {
   "cell_type": "code",
   "execution_count": 47,
   "metadata": {},
   "outputs": [
    {
     "name": "stdout",
     "output_type": "stream",
     "text": [
      "Epoch 1/5\n",
      "3750/3750 [==============================] - 11s 3ms/step - loss: 0.2707 - accuracy: 0.9210\n",
      "Epoch 2/5\n",
      "3750/3750 [==============================] - 10s 3ms/step - loss: 0.1355 - accuracy: 0.9596\n",
      "Epoch 3/5\n",
      "3750/3750 [==============================] - 10s 3ms/step - loss: 0.1033 - accuracy: 0.9687\n",
      "Epoch 4/5\n",
      "3750/3750 [==============================] - 10s 3ms/step - loss: 0.0857 - accuracy: 0.9733\n",
      "Epoch 5/5\n",
      "3750/3750 [==============================] - 9s 3ms/step - loss: 0.0747 - accuracy: 0.9764\n"
     ]
    },
    {
     "data": {
      "text/plain": [
       "<keras.src.callbacks.History at 0x2850262ced0>"
      ]
     },
     "execution_count": 47,
     "metadata": {},
     "output_type": "execute_result"
    }
   ],
   "source": [
    "model = keras.models.Sequential( [\n",
    "                                 keras.layers.Dense(128, \"relu\", input_shape=(28*28,)),\n",
    "                                 keras.layers.Dropout(0.2),\n",
    "                                 keras.layers.Dense(10, \"softmax\")]\n",
    "                                 )\n",
    "model.compile(optimizer=\"adam\", loss=\"categorical_crossentropy\", metrics=[\"accuracy\"])\n",
    "model.fit(X_train, Y_train, batch_size=16, epochs=5)"
   ]
  },
  {
   "cell_type": "code",
   "execution_count": 48,
   "metadata": {},
   "outputs": [
    {
     "name": "stdout",
     "output_type": "stream",
     "text": [
      "313/313 [==============================] - 1s 2ms/step - loss: 0.0759 - accuracy: 0.9765\n"
     ]
    },
    {
     "data": {
      "text/plain": [
       "[0.07587943226099014, 0.9764999747276306]"
      ]
     },
     "execution_count": 48,
     "metadata": {},
     "output_type": "execute_result"
    }
   ],
   "source": [
    "model.evaluate(X_test, Y_test)"
   ]
  },
  {
   "cell_type": "markdown",
   "metadata": {},
   "source": [
    "## PyTorch"
   ]
  },
  {
   "cell_type": "markdown",
   "metadata": {},
   "source": []
  }
 ],
 "metadata": {
  "kernelspec": {
   "display_name": "Python 3",
   "language": "python",
   "name": "python3"
  },
  "language_info": {
   "codemirror_mode": {
    "name": "ipython",
    "version": 3
   },
   "file_extension": ".py",
   "mimetype": "text/x-python",
   "name": "python",
   "nbconvert_exporter": "python",
   "pygments_lexer": "ipython3",
   "version": "3.11.9"
  }
 },
 "nbformat": 4,
 "nbformat_minor": 2
}
