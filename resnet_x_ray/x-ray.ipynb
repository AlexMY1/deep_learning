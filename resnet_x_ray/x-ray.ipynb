{
 "cells": [
  {
   "cell_type": "markdown",
   "metadata": {},
   "source": [
    "## Import"
   ]
  },
  {
   "cell_type": "code",
   "execution_count": 9,
   "metadata": {},
   "outputs": [],
   "source": [
    "import cv2 as cv\n",
    "import numpy as np\n",
    "from os.path import join, exists\n",
    "from os import mkdir\n",
    "import torchvision.models as models\n",
    "import torch\n",
    "from tqdm import tqdm\n",
    "from torch.optim import AdamW\n",
    "from torch.utils.data import TensorDataset, DataLoader, random_split\n",
    "from collections import abc"
   ]
  },
  {
   "cell_type": "markdown",
   "metadata": {},
   "source": [
    "## Preprocess"
   ]
  },
  {
   "cell_type": "markdown",
   "metadata": {},
   "source": [
    "### Set up dataset"
   ]
  },
  {
   "cell_type": "code",
   "execution_count": 10,
   "metadata": {},
   "outputs": [],
   "source": [
    "dataset_dir = \"COVID-19_Radiography_Dataset\"\n",
    "covid_dir = \"COVID/images\"\n",
    "covid_size = 3616\n",
    "lung_dir = \"Lung_Opacity/images\"\n",
    "lung_size = 6012\n",
    "normal_dir = \"Normal/images\"\n",
    "normal_size = 10192\n",
    "pneumo_dir = \"Viral Pneumonia/images\"\n",
    "pneumo_size = 1345"
   ]
  },
  {
   "cell_type": "code",
   "execution_count": 11,
   "metadata": {},
   "outputs": [],
   "source": [
    "if not exists(dataset_dir) : raise FileNotFoundError(\"The dataset directory is wrong\")"
   ]
  },
  {
   "cell_type": "markdown",
   "metadata": {},
   "source": [
    "### Data tensors"
   ]
  },
  {
   "cell_type": "code",
   "execution_count": 12,
   "metadata": {},
   "outputs": [],
   "source": [
    "def create_tensors(class_name:str, data_dir:str, size:int) :\n",
    "    imgs = []\n",
    "    for k in range(1,size+1) :\n",
    "        fname = f\"{class_name}-{k}.png\"\n",
    "        img_path = join(dataset_dir, data_dir, fname)\n",
    "        img = cv.imread(img_path, cv.IMREAD_GRAYSCALE)\n",
    "        imgs.append(img)\n",
    "    data_pt = torch.from_numpy(np.asarray(imgs)).unsqueeze(1)\n",
    "    labels_pt = torch.from_numpy(np.asarray([np.eye(4)[0] for k in range(size)]))\n",
    "    return data_pt, labels_pt"
   ]
  },
  {
   "cell_type": "code",
   "execution_count": 13,
   "metadata": {},
   "outputs": [],
   "source": [
    "covid_pt, covid_labels_pt = create_tensors(\"COVID\", covid_dir, covid_size)\n",
    "assert covid_pt.shape == (covid_size,1,299,299)\n",
    "assert covid_pt.shape[0] == covid_labels_pt.shape[0]\n",
    "assert covid_labels_pt[1] == 4"
   ]
  },
  {
   "cell_type": "code",
   "execution_count": 21,
   "metadata": {},
   "outputs": [],
   "source": [
    "covid_imgs = []\n",
    "for k in range(1,covid_size+1) :\n",
    "    fname = f\"COVID-{k}.png\"\n",
    "    img_path = join(dataset_dir, covid_dir, fname)\n",
    "    img = cv.imread(img_path, cv.IMREAD_GRAYSCALE)\n",
    "    covid_imgs.append(img)\n",
    "covid_pt = torch.from_numpy(np.asarray(covid_imgs)).unsqueeze(1)\n",
    "covid_labels_pt = torch.from_numpy(np.asarray([np.eye(4)[0] for k in range(covid_size)]))"
   ]
  },
  {
   "cell_type": "code",
   "execution_count": 22,
   "metadata": {},
   "outputs": [],
   "source": [
    "normal_imgs = []\n",
    "for k in range(1,normal_size+1) :\n",
    "    fname = f\"Normal-{k}.png\"\n",
    "    img_path = join(dataset_dir, normal_dir, fname)\n",
    "    img = cv.imread(img_path, cv.IMREAD_GRAYSCALE)\n",
    "    normal_imgs.append(img)\n",
    "normal_pt = torch.from_numpy(np.asarray(normal_imgs)).unsqueeze(1)\n",
    "normal_labels_pt = torch.from_numpy(np.asarray([np.eye(4)[1] for k in range(normal_size)]))"
   ]
  },
  {
   "cell_type": "code",
   "execution_count": 23,
   "metadata": {},
   "outputs": [],
   "source": [
    "lung_imgs = []\n",
    "for k in range(1,lung_size+1) :\n",
    "    fname = f\"Lung_Opacity-{k}.png\"\n",
    "    img_path = join(dataset_dir, lung_dir, fname)\n",
    "    img = cv.imread(img_path, cv.IMREAD_GRAYSCALE)\n",
    "    lung_imgs.append(img)\n",
    "lung_pt = torch.from_numpy(np.asarray(lung_imgs)).unsqueeze(1)\n",
    "lung_labels_pt = torch.from_numpy(np.asarray([np.eye(4)[2] for k in range(lung_size)]))"
   ]
  },
  {
   "cell_type": "code",
   "execution_count": 24,
   "metadata": {},
   "outputs": [],
   "source": [
    "pneumo_imgs = []\n",
    "for k in range(1,pneumo_size+1) :\n",
    "    fname = f\"Viral Pneumonia-{k}.png\"\n",
    "    img_path = join(dataset_dir, pneumo_dir, fname)\n",
    "    img = cv.imread(img_path, cv.IMREAD_GRAYSCALE)\n",
    "    pneumo_imgs.append(img)\n",
    "pneumo_pt = torch.from_numpy(np.asarray(pneumo_imgs)).unsqueeze(1)\n",
    "pneumo_labels_pt = torch.from_numpy(np.asarray([np.eye(4)[3] for k in range(pneumo_size)]))"
   ]
  },
  {
   "cell_type": "code",
   "execution_count": null,
   "metadata": {},
   "outputs": [],
   "source": [
    "permutation = torch.randperm()"
   ]
  },
  {
   "cell_type": "code",
   "execution_count": 25,
   "metadata": {},
   "outputs": [],
   "source": [
    "imgs = torch.cat([covid_pt, normal_pt, lung_pt, pneumo_pt])\n",
    "labels = torch.cat([covid_labels_pt, normal_labels_pt, lung_labels_pt, pneumo_labels_pt])\n",
    "train_set = TensorDataset(imgs, labels)"
   ]
  },
  {
   "cell_type": "code",
   "execution_count": 27,
   "metadata": {},
   "outputs": [],
   "source": [
    "torch.save({\"imgs\":imgs,\"labels\":labels}, \"dataset.pt\")"
   ]
  },
  {
   "cell_type": "markdown",
   "metadata": {},
   "source": [
    "### Load dataset"
   ]
  },
  {
   "cell_type": "markdown",
   "metadata": {},
   "source": [
    "If you have already pre-load the TensorDataset :"
   ]
  },
  {
   "cell_type": "code",
   "execution_count": 2,
   "metadata": {},
   "outputs": [
    {
     "name": "stderr",
     "output_type": "stream",
     "text": [
      "C:\\Users\\alexa\\AppData\\Local\\Temp\\ipykernel_9660\\1941836491.py:1: FutureWarning: You are using `torch.load` with `weights_only=False` (the current default value), which uses the default pickle module implicitly. It is possible to construct malicious pickle data which will execute arbitrary code during unpickling (See https://github.com/pytorch/pytorch/blob/main/SECURITY.md#untrusted-models for more details). In a future release, the default value for `weights_only` will be flipped to `True`. This limits the functions that could be executed during unpickling. Arbitrary objects will no longer be allowed to be loaded via this mode unless they are explicitly allowlisted by the user via `torch.serialization.add_safe_globals`. We recommend you start setting `weights_only=True` for any use case where you don't have full control of the loaded file. Please open an issue on GitHub for any issues related to this experimental feature.\n",
      "  data = torch.load(\"dataset.pt\")\n"
     ]
    }
   ],
   "source": [
    "data = torch.load(\"dataset.pt\")"
   ]
  },
  {
   "cell_type": "code",
   "execution_count": null,
   "metadata": {},
   "outputs": [],
   "source": [
    "train_set = TensorDataset(data[\"imgs\"], data[\"labels\"])"
   ]
  },
  {
   "cell_type": "markdown",
   "metadata": {},
   "source": [
    "### DataLoader"
   ]
  },
  {
   "cell_type": "code",
   "execution_count": null,
   "metadata": {},
   "outputs": [],
   "source": [
    "sampler = ."
   ]
  },
  {
   "cell_type": "code",
   "execution_count": 4,
   "metadata": {},
   "outputs": [],
   "source": [
    "train_dataloader = DataLoader(train_set, batch_size=16, sampler=sampler)"
   ]
  },
  {
   "cell_type": "markdown",
   "metadata": {},
   "source": [
    "## Set model"
   ]
  },
  {
   "cell_type": "code",
   "execution_count": 5,
   "metadata": {},
   "outputs": [],
   "source": [
    "resnet = models.resnet18(weights=models.ResNet18_Weights.DEFAULT)"
   ]
  },
  {
   "cell_type": "code",
   "execution_count": 6,
   "metadata": {},
   "outputs": [],
   "source": [
    "nb_input_fc = resnet.fc.in_features"
   ]
  },
  {
   "cell_type": "code",
   "execution_count": 7,
   "metadata": {},
   "outputs": [],
   "source": [
    "fc = torch.nn.Linear(nb_input_fc, 4)\n",
    "resnet._modules[\"fc\"] = fc\n",
    "resnet.conv1 = torch.nn.Conv2d(1, 64, kernel_size=(7, 7), stride=(2, 2), padding=(3, 3), bias=False)"
   ]
  },
  {
   "cell_type": "code",
   "execution_count": 8,
   "metadata": {},
   "outputs": [],
   "source": [
    "optimizer = AdamW(resnet.parameters(), 10e-5)\n",
    "loss = torch.nn.CrossEntropyLoss()"
   ]
  },
  {
   "cell_type": "markdown",
   "metadata": {},
   "source": [
    "## Training loop"
   ]
  },
  {
   "cell_type": "code",
   "execution_count": 18,
   "metadata": {},
   "outputs": [],
   "source": [
    "nb_epochs = 3"
   ]
  },
  {
   "cell_type": "code",
   "execution_count": 19,
   "metadata": {},
   "outputs": [],
   "source": [
    "loss_list = []"
   ]
  },
  {
   "cell_type": "code",
   "execution_count": 20,
   "metadata": {},
   "outputs": [
    {
     "name": "stderr",
     "output_type": "stream",
     "text": [
      "  0%|          | 0/3 [00:00<?, ?it/s]"
     ]
    }
   ],
   "source": [
    "for epoch in tqdm(range(nb_epochs)) :\n",
    "   loss_value = 0\n",
    "   for it, batch in tqdm(enumerate(train_dataloader)) :\n",
    "      images = batch[0].float()\n",
    "      labels = batch[1].float()\n",
    "\n",
    "      optimizer.zero_grad()\n",
    "      outputs = resnet(images)\n",
    "      loss_pt = loss(outputs, labels)\n",
    "      loss_pt.backward()\n",
    "      optimizer.step()\n",
    "      loss_value+=loss_pt.item()\n",
    "\n",
    "   loss_list.append(loss_value)"
   ]
  },
  {
   "cell_type": "code",
   "execution_count": 17,
   "metadata": {},
   "outputs": [
    {
     "data": {
      "text/plain": [
       "[1.2130813598632812]"
      ]
     },
     "execution_count": 17,
     "metadata": {},
     "output_type": "execute_result"
    }
   ],
   "source": [
    "loss_list"
   ]
  },
  {
   "cell_type": "markdown",
   "metadata": {},
   "source": [
    "## Inference loop"
   ]
  },
  {
   "cell_type": "code",
   "execution_count": null,
   "metadata": {},
   "outputs": [],
   "source": []
  },
  {
   "cell_type": "markdown",
   "metadata": {},
   "source": [
    "## Test metrics"
   ]
  },
  {
   "cell_type": "markdown",
   "metadata": {},
   "source": []
  }
 ],
 "metadata": {
  "kernelspec": {
   "display_name": "Python 3",
   "language": "python",
   "name": "python3"
  },
  "language_info": {
   "codemirror_mode": {
    "name": "ipython",
    "version": 3
   },
   "file_extension": ".py",
   "mimetype": "text/x-python",
   "name": "python",
   "nbconvert_exporter": "python",
   "pygments_lexer": "ipython3",
   "version": "3.11.9"
  }
 },
 "nbformat": 4,
 "nbformat_minor": 2
}
