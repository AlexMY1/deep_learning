{
 "cells": [
  {
   "cell_type": "markdown",
   "metadata": {},
   "source": [
    "## Import"
   ]
  },
  {
   "cell_type": "code",
   "execution_count": 1,
   "metadata": {},
   "outputs": [],
   "source": [
    "import anthropic\n",
    "import google.generativeai as genai\n",
    "from google.api_core.exceptions import ResourceExhausted\n",
    "import glob\n",
    "import os\n",
    "from tqdm import tqdm\n",
    "import base64\n",
    "from time import sleep\n",
    "import json\n",
    "import PIL\n",
    "import matplotlib.pyplot as plt"
   ]
  },
  {
   "cell_type": "code",
   "execution_count": 2,
   "metadata": {},
   "outputs": [],
   "source": [
    "DATA_PATH = \"data\""
   ]
  },
  {
   "cell_type": "code",
   "execution_count": 3,
   "metadata": {},
   "outputs": [],
   "source": [
    "prompt=\"Generate a question/answer pair about this slide.\\n* The question must be phrased such that a user could find the slide relevant to the question from a large collection of slides.\\n* The question should not be trivial and must need the visual information from the slide to be answered correctly.\\n* The question and answer must never refer directly to the slide or assume that only one slide is provided. The slide and the question will be provided to the end user along other slides that can be from other presentations.\\n* The question must be phrased without refering to this slide. Instead of saying \\\"[question] d'après la diapositive ?\\\" or \\\"[question] d'après la présentation ?\\\" the question will be asked directly \\\"[question] ?\\\".\\n* Both the question and the answer must be in French, in a json format {\\\"question\\\": ..., \\\"answer\\\": ...}\\nIf there is no question/answer pair for the slide that has all the characteristics needed, please return the empty dictionnary {}. Do not overthink it.\\nExamples:\\n{\\\"question\\\": \\\"Quel est le pourcentage de baisse des achats de dessous en 2013 ?\\\", \\\"answer\\\": \\\"1,7%\\\"}\\n{\\\"question\\\": \\\"Quels parcs d'attractions se situent dans la catégorie \\\"Sportif / Sensation\\\" avec un univers de marque faible ?\\\", \\\"answer\\\": \\\"Aqualand et Bassin Aventure sont les parcs d'attractions de la catégorie \\\"Sportif / Sensation\\\" avec un univers de marque faible.\\\"}\\n{\\\"question\\\": \\\"En programmation, quelles sont les deux structures de traitement conditionnel ?\\\", \\\"answer\\\": \\\"Les deux structures de traitement conditionnel sont la structure de sélection simple et la structure de sélection multiple.\\\"}\\n{\\\"question\\\": \\\"Quelle est la capitalisation boursière mondiale du Bitcoin en milliards de dollars en avril 2021 ?\\\", \\\"answer\\\": \\\"La capitalisation boursière mondiale du Bitcoin était de 1 179 milliards de dollars en avril 2021.\\\"}\""
   ]
  },
  {
   "cell_type": "markdown",
   "metadata": {},
   "source": [
    "## Preprocess"
   ]
  },
  {
   "cell_type": "code",
   "execution_count": 4,
   "metadata": {},
   "outputs": [],
   "source": [
    "def get_data(dir) :\n",
    "    \"\"\"\n",
    "    get file names of the directory dir\n",
    "    Input:\n",
    "    dir: str-like, name of the slideshow\n",
    "    Output :\n",
    "    fnames: list[str], list of fnames\n",
    "    \"\"\"\n",
    "    key = lambda name: int(name.replace(f\"{DATA_PATH}/{dir}\\\\slide_\", \"\").replace(\".jpg\", \"\"))\n",
    "    fnames = sorted(glob.glob(f\"{DATA_PATH}/{dir}/*.jpg\"), key=key)\n",
    "    return fnames"
   ]
  },
  {
   "cell_type": "code",
   "execution_count": 5,
   "metadata": {},
   "outputs": [],
   "source": [
    "def encode_image64(image_path):\n",
    "  with open(image_path, \"rb\") as image_file:\n",
    "    return base64.b64encode(image_file.read()).decode('utf-8')"
   ]
  },
  {
   "cell_type": "code",
   "execution_count": 6,
   "metadata": {},
   "outputs": [],
   "source": [
    "def encode_imgpil(image_path) :\n",
    "    return PIL.Image.open(image_path)"
   ]
  },
  {
   "cell_type": "code",
   "execution_count": 7,
   "metadata": {},
   "outputs": [],
   "source": [
    "def send_prompt_to_gemini(model, image, prompt) :\n",
    "    response = model.generate_content([prompt, image])\n",
    "    return response.text"
   ]
  },
  {
   "cell_type": "code",
   "execution_count": 8,
   "metadata": {},
   "outputs": [],
   "source": [
    "def prompt_to_json(model, img, prompt) :\n",
    "    try :\n",
    "        text = send_prompt_to_gemini(model, img, prompt)\n",
    "    except json.JSONDecodeError as e : \n",
    "        print(e) \n",
    "        text = text[7:-3]\n",
    "    return json.loads(text)"
   ]
  },
  {
   "cell_type": "code",
   "execution_count": 9,
   "metadata": {},
   "outputs": [],
   "source": [
    "def generate_qa(model, prompt=prompt) :\n",
    "    global last_dir\n",
    "    listdir = sorted(os.listdir(DATA_PATH), key=lambda dir: int(dir))\n",
    "    #prompt = \"Generate only one question/answer pair about this slide. The question should be specific and descriptive enough that a user could find the relevant slide from a large collection of slides, for instance it should name the brand or company it relates to if that is relevant. The question should not be trivial and must need the visual information to be answered correctly. Both the question and the answer must be in French, in a format [{\\\"question\\\": ..., \\\"answer\\\": ...}]. Your answer have to be return only in this format. Becareful to put double quotes on keyword question and answer in the json format. It's forbiden to generate more than one pair of question/answer\"\n",
    "    for i in tqdm(range(last_dir+1, len(listdir))) :\n",
    "        dir = listdir[i]\n",
    "        fnames = get_data(dir)\n",
    "        qas = []\n",
    "\n",
    "        for fname in fnames :\n",
    "            try :\n",
    "                img = encode_imgpil(fname)\n",
    "                try : qas.append(prompt_to_json(model, img, prompt))\n",
    "                except ValueError as e : #If ValueError we retry to send prompt\n",
    "                    try : qas.append(prompt_to_json(model, img, prompt))\n",
    "                    except ValueError as e : qas.append(\"{}\") #If it's again a ValueError we pass the slide\n",
    "                sleep(5)\n",
    "            except PIL.UnidentifiedImageError as e : qas.append(\"{}\")\n",
    "            except ResourceExhausted as e : return \"Resource Exhausted raised\"\n",
    "            \n",
    "        json_path = f\"{DATA_PATH}/{dir}/qa_{dir}.json\"\n",
    "        if os.path.exists(json_path) : os.remove(json_path)\n",
    "\n",
    "        with open(json_path, \"w\") as f :\n",
    "            json.dump(qas, f)\n",
    "        last_dir += 1\n",
    "\n",
    "        with open(\"last_dir.txt\", \"w\") as f :\n",
    "            f.write(str(last_dir))\n",
    "        "
   ]
  },
  {
   "cell_type": "markdown",
   "metadata": {},
   "source": [
    "## Execution Q/A"
   ]
  },
  {
   "cell_type": "markdown",
   "metadata": {},
   "source": [
    "1/ Init model :"
   ]
  },
  {
   "cell_type": "code",
   "execution_count": 10,
   "metadata": {},
   "outputs": [],
   "source": [
    "genai.configure()\n",
    "model = genai.GenerativeModel(model_name=\"gemini-1.5-flash\")"
   ]
  },
  {
   "cell_type": "markdown",
   "metadata": {},
   "source": [
    "2-A/ If you generate question/answer from the begining, execute this cell :"
   ]
  },
  {
   "cell_type": "code",
   "execution_count": 11,
   "metadata": {},
   "outputs": [],
   "source": [
    "last_dir = -1"
   ]
  },
  {
   "cell_type": "markdown",
   "metadata": {},
   "source": [
    "2-B/ If there is a break in the loop of generation, please execute this cell :"
   ]
  },
  {
   "cell_type": "code",
   "execution_count": 13,
   "metadata": {},
   "outputs": [],
   "source": [
    "with open(\"last_dir.txt\", \"r\") as f :\n",
    "    last_dir = int(f.read())"
   ]
  },
  {
   "cell_type": "markdown",
   "metadata": {},
   "source": [
    "3/ Generate Q/A cell :"
   ]
  },
  {
   "cell_type": "code",
   "execution_count": 14,
   "metadata": {},
   "outputs": [
    {
     "name": "stderr",
     "output_type": "stream",
     "text": [
      " 89%|████████▉ | 75/84 [2:29:26<17:56, 119.56s/it]  \n"
     ]
    },
    {
     "data": {
      "text/plain": [
       "'Resource Exhausted raised'"
      ]
     },
     "execution_count": 14,
     "metadata": {},
     "output_type": "execute_result"
    }
   ],
   "source": [
    "generate_qa(model)"
   ]
  },
  {
   "cell_type": "markdown",
   "metadata": {},
   "source": [
    "## Post-processing"
   ]
  },
  {
   "cell_type": "markdown",
   "metadata": {},
   "source": [
    "Delete slides with empty question/answer :"
   ]
  },
  {
   "cell_type": "code",
   "execution_count": null,
   "metadata": {},
   "outputs": [],
   "source": [
    "deleted = 0\n",
    "for dir in sorted(os.listdir(DATA_PATH), key=lambda dir: int(dir)) :\n",
    "    with open(f\"{DATA_PATH}/{dir}/qa_{dir}.json\", \"r\") as f :\n",
    "        qas = json.load(f)\n",
    "    with open(f\"{DATA_PATH}/{dir}/{dir}.json\", \"r\") as f:\n",
    "        meta_data = json.load(f)\n",
    "\n",
    "    not_empty_qa = [qa for qa in qas if qa and qa != \"{}\"]\n",
    "    idx_empty_qa = [i for i,qa in enumerate(qas) if not qa or qa ==\"{}\"]\n",
    "    meta_data[\"len\"] = int(meta_data[\"len\"])-len(idx_empty_qa)\n",
    "    deleted += len(idx_empty_qa)\n",
    "\n",
    "    sorted_fnames = get_data(dir)\n",
    "    for idx_slide in idx_empty_qa :\n",
    "        try :\n",
    "            os.remove(sorted_fnames[idx_slide])\n",
    "        except FileNotFoundError as e : raise e\n",
    "\n",
    "    with open(f\"{DATA_PATH}/{dir}/{dir}.json\", \"w\") as f :\n",
    "        json.dump(meta_data, f)\n",
    "    with open(f\"{DATA_PATH}/{dir}/qa_{dir}.json\", \"w\") as f:\n",
    "        json.dump(not_empty_qa, f)"
   ]
  },
  {
   "cell_type": "code",
   "execution_count": 17,
   "metadata": {},
   "outputs": [
    {
     "data": {
      "text/plain": [
       "351"
      ]
     },
     "execution_count": 17,
     "metadata": {},
     "output_type": "execute_result"
    }
   ],
   "source": [
    "deleted"
   ]
  },
  {
   "cell_type": "markdown",
   "metadata": {},
   "source": [
    "Verify if all questions/answers pairs have {\"question\", \"answer} as a structure :"
   ]
  },
  {
   "cell_type": "code",
   "execution_count": 18,
   "metadata": {},
   "outputs": [],
   "source": [
    "for dir in sorted(os.listdir(DATA_PATH), key=lambda dir: int(dir)) :\n",
    "    with open(f\"{DATA_PATH}/{dir}/qa_{dir}.json\", \"r\") as f :\n",
    "        qas = json.load(f)\n",
    "    for pos,qa in enumerate(qas) :\n",
    "        if list(qa.keys()) != [\"question\", \"answer\"] : print(f\"{dir} : {qa}\")"
   ]
  }
 ],
 "metadata": {
  "kernelspec": {
   "display_name": "Python 3",
   "language": "python",
   "name": "python3"
  },
  "language_info": {
   "codemirror_mode": {
    "name": "ipython",
    "version": 3
   },
   "file_extension": ".py",
   "mimetype": "text/x-python",
   "name": "python",
   "nbconvert_exporter": "python",
   "pygments_lexer": "ipython3",
   "version": "3.11.9"
  }
 },
 "nbformat": 4,
 "nbformat_minor": 2
}
